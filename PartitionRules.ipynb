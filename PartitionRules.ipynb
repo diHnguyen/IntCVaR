{
 "cells": [
  {
   "cell_type": "code",
   "execution_count": 10,
   "metadata": {},
   "outputs": [
    {
     "data": {
      "text/plain": [
       "chooseWorst (generic function with 1 method)"
      ]
     },
     "execution_count": 10,
     "metadata": {},
     "output_type": "execute_result"
    }
   ],
   "source": [
    "function chooseMax(M)\n",
    "    #Choose an arc that has the max range of uncertainty\n",
    "    arc_split = findall(M .== maximum(M))[1]\n",
    "    return arc_split\n",
    "end\n",
    "\n",
    "function chooseScore(M, split_Candidates)\n",
    "    #Choose an arc that has the lowest Score from Tree Sensitivity \n",
    "    #Analysis when Max_Range_Unc/Min_Range_Unc <= 10\n",
    "    \n",
    "    Delta_Final_Pos = ones(Len).*-1\n",
    "    Delta_Final_Neg = ones(Len).*-1\n",
    "\n",
    "    M_max = maximum(M)\n",
    "    temp = find(M .>0)\n",
    "    M_min = M_max\n",
    "    for e in temp\n",
    "        if M[e] <= M_min\n",
    "            M_min = M[e]\n",
    "        end\n",
    "    end\n",
    "    if M_max/M_min > 10\n",
    "#                             println(\"Pick Max\")\n",
    "        split_Candidates[k] = findall(M .== maximum(M))[1]\n",
    "    end\n",
    "    if M_max/M_min <= 10\n",
    "#                             println(\"SA\")\n",
    "        #FIND TREE, PRED\n",
    "        y, gx, SP, T, pred, label, path = gx_bound(c_L, c_U, c, c_g, x_now, edge)\n",
    "        g[k] = gx\n",
    "        basic, basic_cost, i_basic, nonbasic, nonbasic_cost, i_nonbasic = classify_edges_costs(T,c_g)\n",
    "        orderedArcList = getSortedBasicArcList(pred, basic, i_basic)\n",
    "\n",
    "        label_temp = copy(label)\n",
    "        c_temp = copy(c_g)\n",
    "\n",
    "        for e in i_nonbasic\n",
    "            u = edge[e,1]\n",
    "            v = edge[e,2]\n",
    "            Delta_Final_Neg[e] = label_temp[u] - label_temp[v] + c_temp[e]\n",
    "        end\n",
    "\n",
    "        for i = 1 : length(orderedArcList)\n",
    "            e = orderedArcList[i]\n",
    "            myNode = edge[e,2]\n",
    "            if y[e] == 1 #if arc is on the shortest path y\n",
    "                Delta_Final_Pos[e] = find_basic_Delta(myNode, Delta_Final_Pos, Delta_Final_Neg, \"POS\", basic, i_basic, nonbasic, i_nonbasic) \n",
    "                #Do not have to find Delta_Final_Neg : all set to (-1)\n",
    "            else\n",
    "                Delta_Final_Neg[e] = find_basic_Delta(myNode, Delta_Final_Pos, Delta_Final_Neg, \"NEG\", basic, i_basic, nonbasic, i_nonbasic)\n",
    "            end\n",
    "        end          \n",
    "\n",
    "        arcs_neg = find(Delta_Final_Neg .>= 0)\n",
    "        arcs_pos = find(Delta_Final_Pos .>= 0)\n",
    "        found_split_arc = false\n",
    "        arcs_delta = []\n",
    "        myMax = maximum(Delta_Final_Neg)\n",
    "\n",
    "        arcs = find(M.>0)                        \n",
    "        if myMax < maximum(Delta_Final_Pos)\n",
    "            myMax = maximum(Delta_Final_Pos)\n",
    "        end\n",
    "\n",
    "        myScore = myMax/M_min\n",
    "        for i in arcs\n",
    "#                                 println(\"i = \", i)\n",
    "            if Delta_Final_Pos[i] >= 0 && Delta_Final_Pos[i]/M[i] < myScore\n",
    "                myScore = Delta_Final_Pos[i]/M[i]\n",
    "                split_Candidates[k] = i\n",
    "                found_split_arc = true\n",
    "            end\n",
    "            if Delta_Final_Neg[i] >= 0 && Delta_Final_Neg[i]/M[i] < myScore\n",
    "                myScore = Delta_Final_Neg[i]/M[i]\n",
    "                split_Candidates[k] = i\n",
    "                found_split_arc = true\n",
    "            end\n",
    "        end\n",
    "        if found_split_arc == false\n",
    "            split_Candidates[k] = find(M .== maximum(M))[1]\n",
    "        end\n",
    "    end\n",
    "    return split_Candidates[k]\n",
    "end\n",
    "\n",
    "function chooseWorst(M, yL, yW)\n",
    "    #After solving (3) at cL, solve (3) at cW where cW is worst for\n",
    "    #yL. Compare yL and yW to obtain a set of candidate arcs. Choose\n",
    "    #arc with largest uncertainty range.\n",
    "    candidates = findall(yL.!=yW)\n",
    "    arc_split = findall(M .== maximum(M[candidates]))[1]\n",
    "    return arc_split\n",
    "end"
   ]
  },
  {
   "cell_type": "code",
   "execution_count": 11,
   "metadata": {},
   "outputs": [
    {
     "data": {
      "text/plain": [
       "1"
      ]
     },
     "execution_count": 11,
     "metadata": {},
     "output_type": "execute_result"
    }
   ],
   "source": []
  },
  {
   "cell_type": "code",
   "execution_count": 28,
   "metadata": {
    "scrolled": true
   },
   "outputs": [
    {
     "name": "stdout",
     "output_type": "stream",
     "text": [
      "[53.0, 3.0, 60.0, 70.0, 80.0, 90.0, 104.0]\n"
     ]
    }
   ],
   "source": [
    "yL_k = zeros(40)# [1 0 1]\n",
    "yL_k[1] = 1\n",
    "yL_k[5] = 1\n",
    "yL_k[10] = 1\n",
    "yL_k[20] = 1\n",
    "yL_k[15] = 1\n",
    "yL_k[27] = 1\n",
    "\n",
    "yW_k = zeros(40)# [1 0 1]\n",
    "yW_k[2] = 1\n",
    "yW_k[5] = 1\n",
    "yW_k[12] = 1\n",
    "yW_k[20] = 1\n",
    "yW_k[17] = 1\n",
    "yW_k[35] = 1\n",
    "\n",
    "c_L = collect(1:40)\n",
    "x_now = zeros(40)\n",
    "x_now[1] = 1\n",
    "x_now[2] = 1\n",
    "d = ones(40)\n",
    "cg_k = c_L + d.*x_now\n",
    "M = collect(51:90)\n",
    "c_W = cg_k + yL_k.*M\n",
    "println(c_W[findall(c_W.!=c_L)])"
   ]
  },
  {
   "cell_type": "code",
   "execution_count": 23,
   "metadata": {
    "scrolled": true
   },
   "outputs": [
    {
     "data": {
      "text/plain": [
       "40-element Array{Float64,1}:\n",
       " 51.0\n",
       "  0.0\n",
       "  0.0\n",
       "  0.0\n",
       " 55.0\n",
       "  0.0\n",
       "  0.0\n",
       "  0.0\n",
       "  0.0\n",
       " 60.0\n",
       "  0.0\n",
       "  0.0\n",
       "  0.0\n",
       "  ⋮  \n",
       "  0.0\n",
       "  0.0\n",
       "  0.0\n",
       "  0.0\n",
       "  0.0\n",
       "  0.0\n",
       "  0.0\n",
       "  0.0\n",
       "  0.0\n",
       "  0.0\n",
       "  0.0\n",
       "  0.0"
      ]
     },
     "execution_count": 23,
     "metadata": {},
     "output_type": "execute_result"
    }
   ],
   "source": [
    " yL_k.*M"
   ]
  },
  {
   "cell_type": "code",
   "execution_count": null,
   "metadata": {},
   "outputs": [],
   "source": [
    "using TimerOutputs"
   ]
  },
  {
   "cell_type": "code",
   "execution_count": 35,
   "metadata": {},
   "outputs": [
    {
     "data": {
      "text/plain": [
       "17.30299997329712"
      ]
     },
     "execution_count": 35,
     "metadata": {},
     "output_type": "execute_result"
    }
   ],
   "source": [
    "start = time()\n",
    "for i = 1:10000000\n",
    "    cW = copy(cg_k)\n",
    "    for arc in findall(yL_k.==1)\n",
    "        cW[arc] +=  M[arc]\n",
    "    end\n",
    "end \n",
    "total_time = time() - start"
   ]
  },
  {
   "cell_type": "code",
   "execution_count": 33,
   "metadata": {},
   "outputs": [
    {
     "data": {
      "text/plain": [
       "4.833000183105469"
      ]
     },
     "execution_count": 33,
     "metadata": {},
     "output_type": "execute_result"
    }
   ],
   "source": [
    "start = time()\n",
    "for i = 1:10000000\n",
    "    cW = cg_k + yL_k.*M\n",
    "end \n",
    "total_time = time() - start"
   ]
  },
  {
   "cell_type": "code",
   "execution_count": 43,
   "metadata": {},
   "outputs": [
    {
     "data": {
      "text/plain": [
       "21.128000020980835"
      ]
     },
     "execution_count": 43,
     "metadata": {},
     "output_type": "execute_result"
    }
   ],
   "source": [
    "start = time()\n",
    "for i = 1:10000000\n",
    "    temp = findall(yL_k.!=yW_k)\n",
    "    ind_ = findall(temp.==maximum(temp))[1]\n",
    "end \n",
    "total_time = time() - start"
   ]
  },
  {
   "cell_type": "code",
   "execution_count": 45,
   "metadata": {},
   "outputs": [
    {
     "data": {
      "text/plain": [
       "48.206000089645386"
      ]
     },
     "execution_count": 45,
     "metadata": {},
     "output_type": "execute_result"
    }
   ],
   "source": [
    "start = time()\n",
    "for i = 1:10000000\n",
    "    M1 = M.*yL_k\n",
    "    M2 = M.*yW_k\n",
    "    temp = 0\n",
    "    ind_ = 0\n",
    "    for j = 1:length(M)\n",
    "        if temp < M1[j]\n",
    "            temp = M1[j]\n",
    "            ind = j\n",
    "        elseif temp < M2[j]\n",
    "            temp = M2[j]\n",
    "            ind_ = j\n",
    "        end\n",
    "    end\n",
    "#     myMax = maximum(M[yL_k.!=yW_k])\n",
    "#     ind_ = findall(M.==myMax)[1]\n",
    "#     findall(yL_k.!=yW_k)\n",
    "end \n",
    "total_time = time() - start"
   ]
  },
  {
   "cell_type": "code",
   "execution_count": 40,
   "metadata": {},
   "outputs": [
    {
     "data": {
      "text/plain": [
       "2-element Array{Int64,1}:\n",
       " 4\n",
       " 5"
      ]
     },
     "execution_count": 40,
     "metadata": {},
     "output_type": "execute_result"
    }
   ],
   "source": [
    "a = [1 0 0]\n",
    "b = [0 1 0]\n",
    "M1 = [4 5 6]\n",
    "M1[a.!=b]"
   ]
  },
  {
   "cell_type": "code",
   "execution_count": null,
   "metadata": {},
   "outputs": [],
   "source": []
  }
 ],
 "metadata": {
  "kernelspec": {
   "display_name": "Julia 1.0.5",
   "language": "julia",
   "name": "julia-1.0"
  },
  "language_info": {
   "file_extension": ".jl",
   "mimetype": "application/julia",
   "name": "julia",
   "version": "1.0.5"
  }
 },
 "nbformat": 4,
 "nbformat_minor": 4
}
