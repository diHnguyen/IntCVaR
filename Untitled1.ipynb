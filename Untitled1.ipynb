{
 "cells": [
  {
   "cell_type": "code",
   "execution_count": 5,
   "metadata": {},
   "outputs": [
    {
     "name": "stdout",
     "output_type": "stream",
     "text": [
      "\u001b[32m\u001b[1m Resolving\u001b[22m\u001b[39m package versions...\n",
      "\u001b[32m\u001b[1m  Updating\u001b[22m\u001b[39m `C:\\Users\\din\\.julia\\environments\\v1.0\\Project.toml`\n",
      "\u001b[90m [no changes]\u001b[39m\n",
      "\u001b[32m\u001b[1m  Updating\u001b[22m\u001b[39m `C:\\Users\\din\\.julia\\environments\\v1.0\\Manifest.toml`\n",
      "\u001b[90m [no changes]\u001b[39m\n",
      "0.500999927520752\n",
      "0.0690000057220459\n"
     ]
    }
   ],
   "source": [
    "a = rand(10000)\n",
    "using Pkg\n",
    "# Pkg.add(\"TimerOutputs\")\n",
    "using TimerOutputs\n",
    "\n",
    "start = time()\n",
    "for i = 1:1000\n",
    "    sort(a)\n",
    "end\n",
    "println(time() - start)\n",
    "start = time()\n",
    "for i = 1:1000\n",
    "    sort!(a)\n",
    "end\n",
    "println(time() - start)"
   ]
  },
  {
   "cell_type": "code",
   "execution_count": 7,
   "metadata": {},
   "outputs": [
    {
     "name": "stdout",
     "output_type": "stream",
     "text": [
      "0.11599993705749512\n",
      "0.006000041961669922\n"
     ]
    }
   ],
   "source": [
    "start = time()\n",
    "for i = 1:1000\n",
    "    filter(x->x.>0,a)\n",
    "end\n",
    "println(time() - start)\n",
    "start = time()\n",
    "for i = 1:1000\n",
    "    filter!(x->x.>0,a)\n",
    "end\n",
    "println(time() - start)"
   ]
  },
  {
   "cell_type": "code",
   "execution_count": null,
   "metadata": {},
   "outputs": [],
   "source": []
  }
 ],
 "metadata": {
  "kernelspec": {
   "display_name": "Julia 1.0.5",
   "language": "julia",
   "name": "julia-1.0"
  },
  "language_info": {
   "file_extension": ".jl",
   "mimetype": "application/julia",
   "name": "julia",
   "version": "1.0.5"
  }
 },
 "nbformat": 4,
 "nbformat_minor": 4
}
