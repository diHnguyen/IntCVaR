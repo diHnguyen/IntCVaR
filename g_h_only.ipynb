{
 "cells": [
  {
   "cell_type": "code",
   "execution_count": 12,
   "metadata": {},
   "outputs": [
    {
     "data": {
      "text/plain": [
       "hx_bound (generic function with 1 method)"
      ]
     },
     "execution_count": 12,
     "metadata": {},
     "output_type": "execute_result"
    }
   ],
   "source": [
    "using JuMP \n",
    "using Gurobi\n",
    "using LightGraphs\n",
    "using DataFrames\n",
    "using CSV\n",
    "using TimerOutputs\n",
    "all_nodes = collect(1:destination)\n",
    "# last_node = maximum(edge)\n",
    "gurobi_env = Gurobi.Env()\n",
    "setparams!(gurobi_env, Heuristics=0.0, Cuts = 0, OutputFlag = 0)\n",
    "function gx_bound(c_L, c_U, c, c_g, x_now, edge)\n",
    "    \n",
    "    #println(f,\"Current CELL's LB = \", c_L)\n",
    "    #println(f,\"Current CELL's UB = \", c_U)\n",
    "    #println(f, \"Current interdiction x = \", x_now)\n",
    "    start_node = edge[:,1]\n",
    "    end_node = edge[:,2]\n",
    "\n",
    "    no_node = max(maximum(start_node), maximum(end_node) )\n",
    "    no_link = length(start_node)\n",
    "\n",
    "\n",
    "    function getShortestX(state, start_node, end_node, origin, destination)\n",
    "        _x = zeros(Int, length(start_node))\n",
    "        _path = enumerate_paths(state, destination)\n",
    "\n",
    "        for i=1:length(_path)-1\n",
    "            _start = _path[i]\n",
    "            _end = _path[i+1]\n",
    "\n",
    "            for j=1:length(start_node)\n",
    "                if start_node[j]==_start && end_node[j]==_end\n",
    "                _x[j] = 1\n",
    "                break\n",
    "                end\n",
    "            end\n",
    "\n",
    "        end\n",
    "        _x\n",
    "    end\n",
    "\n",
    "\n",
    "    graph = Graph(no_node)\n",
    "    distmx = Inf*ones(no_node, no_node)\n",
    "\n",
    "    # Adding links to the graph\n",
    "    for i=1:no_link\n",
    "        add_edge!(graph, start_node[i], end_node[i])\n",
    "        distmx[start_node[i], end_node[i]] = c_g[i]\n",
    "    end\n",
    "\n",
    "    # Run Dijkstra's Algorithm from the origin node to all nodes\n",
    "    state = dijkstra_shortest_paths(graph, origin, distmx)\n",
    "    label = state.dists\n",
    "    pred = state.parents\n",
    "    b_arc = \"\"\n",
    "    \n",
    "    for i = 1: length(state.parents)\n",
    "        if state.parents[i] != 0 \n",
    "            b_arc = string(b_arc, \"(\", state.parents[i], \",\", i, \")\")\n",
    "        end\n",
    "    end\n",
    "    \n",
    "    # Retrieving the shortest path\n",
    "    path = enumerate_paths(state, destination)\n",
    "    \n",
    "    #parents = LightGraphs.DijkstraState(state, destination)\n",
    "\n",
    "    # Retrieving the 'x' variable in a 0-1 vector\n",
    "    y = getShortestX(state, start_node, end_node, origin, destination)\n",
    "    #println(f,\"y vector:\", y)\n",
    "    \n",
    "    gx = sum(c_g[i]*y[i] for i = 1:no_link)    \n",
    "    SP = sum(c[i]*y[i] for i = 1:length(c))\n",
    "    T = Int64[]\n",
    "    for i = 1:Len\n",
    "        if pred[edge[i,2]] == edge[i,1]\n",
    "            push!(T, 1)\n",
    "        else\n",
    "            push!(T, 0)\n",
    "        end\n",
    "    end\n",
    "\n",
    "    y_index = findall(y .== 1)\n",
    "\n",
    "#     println(\"Minimum Spanning Tree: \", T)\n",
    "    #println(\"Shortest path y = \", y)\n",
    "    #println(\"Indices of shortest path (edge) = \", y_index)\n",
    "    #println(\"Nodes visited =\", path)\n",
    "    #println(\"Minimum Spanning Tree =\", pred)\n",
    "    #println(\"Node label =\" ,label)\n",
    "\n",
    "    return y, gx, SP\n",
    "end\n",
    "\n",
    "\n",
    "\n",
    "\n",
    "h1 = Model(() -> Gurobi.Optimizer(gurobi_env))\n",
    "@variable(h1, 1 >= y_h[1:Len]>=0)\n",
    "#@variable(h, q[1:Len]>=0)\n",
    "\n",
    "\n",
    "#Setting constraint for start node\n",
    "\n",
    "# println(leaving1)\n",
    "leaving = findall(edge[:,1].== origin)\n",
    "# leaving = 1 .* (edge[j=1:Len,1] .== origin)\n",
    "\n",
    "@constraint(h1, sum(y_h[k] for k in leaving) == 1)\n",
    "# print(1)\n",
    "#Setting constraint for other nodes\n",
    "\n",
    "for i in all_nodes\n",
    "    if i != destination && i != origin\n",
    "#             incoming = 1 .* (edge[j=1:Len,2] .== i)\n",
    "#             leaving = -1 .* (edge[j=1:Len,1] .== i)\n",
    "        incoming = findall(edge[:,2].== i)\n",
    "        leaving = findall(edge[:,1].== i)\n",
    "        @constraint(h1, sum(-y_h[k] for k in leaving) + sum(y_h[k] for k in incoming) == 0)\n",
    "    end\n",
    "end\n",
    "function hx_bound(h, c_L, c_U, c, d, x_now, edge)\n",
    "    \n",
    "    c = (c_L + c_U)/2\n",
    "    #println(f,\"Current CELL's LB = \", c_L)\n",
    "    #println(f,\"Current CELL's UB = \", c_U)\n",
    "    #println(f,\"Current interdiction x = \", x_now)\n",
    "    M = c_U - c_L\n",
    "\n",
    "    h2 = copy(h1)\n",
    "\n",
    "    y2 = h2[:y_h]\n",
    "\n",
    "    @variable(h2, q[1:Len]>=0)\n",
    "    for i = 1:Len\n",
    "        @constraint(h2, q[i] >= c[i] - c_L[:,1][i] - M[i]*(1-y2[i])) #_h[i]))\n",
    "    end\n",
    "\n",
    "    @objective(h2, Min, sum((c_L[i]+d[i]*x_now[i])*y2[i] + q[i] for i=1:Len))\n",
    "\n",
    "    #print(f,h2)\n",
    "    set_optimizer(h2, ()-> Gurobi.Optimizer(gurobi_env))\n",
    "    optimize!(h2)\n",
    "#     println(\"h2 is fine\")\n",
    "    hx = JuMP.objective_value.(h2)\n",
    "    \n",
    "    return JuMP.value.(y2), hx\n",
    "end"
   ]
  },
  {
   "cell_type": "code",
   "execution_count": 14,
   "metadata": {},
   "outputs": [
    {
     "name": "stdout",
     "output_type": "stream",
     "text": [
      "1.0\n",
      "13.0\n",
      "Interdiction [1, 8]\n",
      "α = 13.0\n",
      "z = Int64[]\n",
      "[0.2, 0.8]\n"
     ]
    }
   ],
   "source": [
    "edge = [1 2; 1 3; 2 6; 3 4; 3 5; 4 6; 5 6; 1 7; 7 6]\n",
    "c_L = [2.0, 1, 0, 0, 0, 12,30, 1, 6]\n",
    "c_U = [2.0, 1,40, 0, 0, 12,60, 1, 12]\n",
    "d = [100, 100, 0, 0, 0, 0, 0, 100, 0]\n",
    "\n",
    "Len = length(edge[:,1])\n",
    "b = 2\n",
    "\n",
    "β = 0.8\n",
    "K = 2\n",
    "# p = ones(K)./K\n",
    "Pset = [[1,3],[2,4,6],[8,9],[2,5,7]]\n",
    "unc_arc = [3,7,9]\n",
    "cset = []\n",
    "push!(cset,[0  8;  0 60; 6 12]) #1\n",
    "push!(cset,[8 40;  0 60; 6 12]) #2\n",
    "# push!(cset,[ 0 10; 30 60; 6 7.5]) #3\n",
    "# push!(cset,[20 40; 30 60; 6 7.5]) #4\n",
    "# push!(cset,[ 0 10; 15 30; 6 7.5]) #5 \n",
    "# push!(cset,[20 40; 15 30; 6 7.5]) #6\n",
    "# push!(cset,[10 20;  0 7.5; 6 7.5]) #7\n",
    "# push!(cset,[10 20; 30 60; 6 7.5]) #8\n",
    "# push!(cset,[10 20; 15 30; 6 7.5]) #9\n",
    "\n",
    "# push!(cset,[ 0 10;  0 7.5; 9 12]) #1\n",
    "# push!(cset,[20 40;  0 7.5; 9 12]) #2\n",
    "# push!(cset,[ 0 10; 30 60; 9 12]) #3\n",
    "# push!(cset,[20 40; 30 60; 9 12]) #4\n",
    "# push!(cset,[ 0 10; 15 30; 9 12]) #5 \n",
    "# push!(cset,[20 40; 15 30; 9 12]) #6\n",
    "# push!(cset,[10 20;  0 7.5; 9 12]) #7\n",
    "# push!(cset,[10 20; 30 60; 9 12]) #8\n",
    "# push!(cset,[10 20; 15 30; 9 12]) #9\n",
    "\n",
    "# push!(cset,[ 0 10;  0 7.5; 7.5 9]) #1\n",
    "# push!(cset,[20 40;  0 7.5; 7.5 9]) #2\n",
    "# push!(cset,[ 0 10; 30 60; 7.5 9]) #3\n",
    "# push!(cset,[20 40; 30 60; 7.5 9]) #4\n",
    "# push!(cset,[ 0 10; 15 30; 7.5 9]) #5 \n",
    "# push!(cset,[20 40; 15 30; 7.5 9]) #6\n",
    "# push!(cset,[10 20;  0 7.5; 7.5 9]) #7\n",
    "# push!(cset,[10 20; 30 60; 7.5 9]) #8\n",
    "# push!(cset,[10 20; 15 30; 7.5 9]) #9\n",
    "\n",
    "# push!(cset,[ 0 10; 7.5 11.25; 6 7.5]) #1\n",
    "# push!(cset,[20 40; 7.5 11.25; 6 7.5]) #2\n",
    "# push!(cset,[10 20; 7.5 11.25; 6 7.5]) #7\n",
    "# push!(cset,[ 0 10; 7.5 11.25; 9 12]) #1\n",
    "# push!(cset,[20 40; 7.5 11.25; 9 12]) #2\n",
    "# push!(cset,[10 20; 7.5 11.25; 9 12]) #7\n",
    "# push!(cset,[ 0 10; 7.5 11.25; 7.5 9]) #1\n",
    "# push!(cset,[20 40; 7.5 11.25; 7.5 9]) #2\n",
    "# push!(cset,[10 20; 7.5 11.25; 7.5 9]) #7\n",
    "\n",
    "# push!(cset,[ 0 10; 11.25 15; 6 7.5]) #1\n",
    "# push!(cset,[20 40; 11.25 15; 6 7.5]) #2\n",
    "# push!(cset,[10 20; 11.25 15; 6 7.5]) #7\n",
    "# push!(cset,[ 0 10; 11.25 15; 9 12]) #1\n",
    "# push!(cset,[20 40; 11.25 15; 9 12]) #2\n",
    "# push!(cset,[10 20; 11.25 15; 9 12]) #7\n",
    "# push!(cset,[ 0 10; 11.25 15; 7.5 9]) #1\n",
    "# push!(cset,[20 40; 11.25 15; 7.5 9]) #2\n",
    "# push!(cset,[10 20; 11.25 15; 7.5 9]) #7\n",
    "\n",
    "# println(cset)\n",
    "p = zeros(K)\n",
    "p = [0.2, 0.8]\n",
    "# p = [0.0078125, 0.0078125, 0.03125, 0.0625, 0.03125, 0.03125, 0.0078125, 0.015625, 0.03125, \n",
    "#     0.015625, 0.015625, 0.0625, 0.125, 0.0625, 0.0625, 0.015625, 0.03125, 0.0625, \n",
    "#     0.0078125, 0.0078125, 0.03125, 0.0625, 0.03125, 0.03125, 0.0078125, 0.015625, 0.03125,\n",
    "#     0.00390625, 0.00390625, 0.00390625, 0.0078125, 0.0078125, 0.0078125, 0.00390625, 0.00390625, 0.00390625,\n",
    "#     0.00390625, 0.00390625, 0.00390625, 0.0078125, 0.0078125, 0.0078125, 0.00390625, 0.00390625, 0.00390625]\n",
    "# p = [0.0625,0.0625,0.125, 0.25,0.125, 0.125,0.0625,0.0625,0.125,\n",
    "#     0.0625,0.0625,0.125, 0.25,0.125, 0.125,0.0625,0.0625,0.125]./2\n",
    "println(sum(p[i] for i = 1:length(p)))\n",
    "# 0.0625,0.0625,0.0625, 0.25,0.125, 0.125,0.0625,0.0625,0.0625]\n",
    "m = Model(() -> Gurobi.Optimizer(gurobi_env)) # If we want to add # in Gurobi, then we have to turn of Gurobi's own Cuts \n",
    "@variable(m, α)\n",
    "@variable(m,  x[1:Len], Bin)\n",
    "@variable(m, 1e6 >= z[1:K] >= 0)\n",
    "@constraint(m, sum(x[i] for i=1:Len) <= b) #attack budget = 2\n",
    "\n",
    "#Cell 1\n",
    "for i = 1:K\n",
    "#     println(\"k = \",i)\n",
    "    for y in Pset\n",
    "#         println(y)\n",
    "        cbar_vector = cset[i]\n",
    "#         println(\"cbar_vector = \", cbar_vector)\n",
    "        SP = 0\n",
    "        for arc in y\n",
    "#             println(\"arc = \", arc)\n",
    "            if (arc in unc_arc) == true\n",
    "#                 println()\n",
    "                arc_index_cset = findall(unc_arc.==arc)[1]\n",
    "#                 println(\"arc_index_cset = \", arc_index_cset)\n",
    "                SP = SP + (cbar_vector[arc_index_cset,1]+cbar_vector[arc_index_cset,2])/2\n",
    "            else\n",
    "                SP = SP + c_L[arc]\n",
    "            end\n",
    "        end\n",
    "#         println(\"SP = \", SP)\n",
    "        @constraint(m, α <= SP + sum(x[i]*d[i] for i in y) + z[i]) #Path 1-2-6\n",
    "#         @constraint(m, α <= 13 + sum(x[i]*d[i] for i in [2,4,6]) + z[1]) #Path 1-3-4-6\n",
    "#         @constraint(m, α <= 10 + sum(x[i]*d[i] for i in [8,9]) + z[1]) #Path 1-7-6\n",
    "#         @constraint(m, α <= 8.5 + sum(x[i]*d[i] for i in [2,5,7]) + z[1]) #Path 1-3-5-6\n",
    "    end\n",
    "end\n",
    "\n",
    "\n",
    "@objective(m, Max, α - (1/(1-β))*sum(p[i]*z[i] for i = 1:length(p)) )#w - sum(s[k] for k=1:length(s))/length(s) )\n",
    "optimize!(m)\n",
    "#     println(\"h2 is fine\")\n",
    "# println(m)\n",
    "println(JuMP.objective_value.(m))\n",
    "println(\"Interdiction \", findall(JuMP.value.(x).==1))\n",
    "println(\"α = \",JuMP.value.(α) )\n",
    "println(\"z = \",findall(JuMP.value.(z).>0 ))\n",
    "println(p)\n",
    "# println(d)\n",
    "#Path 1-2-6\n",
    "#Path 1-3-4-6\n",
    "#Path 1-7-6\n",
    "#Path 1-3-5-6\n",
    "# println(sum(p[i] for i = 1:18))"
   ]
  },
  {
   "cell_type": "code",
   "execution_count": 125,
   "metadata": {},
   "outputs": [
    {
     "name": "stdout",
     "output_type": "stream",
     "text": [
      "[0.00390625, 0.00390625, 0.00390625, 0.0078125, 0.0078125, 0.0078125, 0.00390625, 0.00390625, 0.00390625]\n"
     ]
    }
   ],
   "source": [
    "println(p[28:36]./2)"
   ]
  },
  {
   "cell_type": "code",
   "execution_count": 121,
   "metadata": {},
   "outputs": [
    {
     "name": "stdout",
     "output_type": "stream",
     "text": [
      "[2, 5, 7]\n",
      "[1.0, 0.0, 7.5]\n",
      "g = 8.5\n",
      "8.5\n",
      "h = 7.0\n"
     ]
    }
   ],
   "source": [
    "edge = [1 2; 1 3; 2 6; 3 4; 3 5; 4 6; 5 6; 1 7; 7 6]\n",
    "\n",
    "c_L = [2.0, 1,10, 0, 0, 12, 0, 1, 6]\n",
    "c_U = [2.0, 1,20, 0, 0, 12,15, 1, 7.5]\n",
    "# d[2] = 2\n",
    "d = [100, 100, 0, 0, 0, 0, 0, 100, 0]\n",
    "# println(myArray)\n",
    "M = c_U - c_L\n",
    "# a = 1\n",
    "# println(M)\n",
    "origin = 1\n",
    "destination = 6\n",
    "\n",
    "\n",
    "Len = length(d)\n",
    "x_now = zeros(Len)\n",
    "\n",
    "x_now[1] = 1\n",
    "x_now[8] = 1\n",
    "\n",
    "c = (c_L + c_U)/2\n",
    "c_g = c + d.*x_now\n",
    "\n",
    "y, gx, SP = gx_bound(c_L, c_U, c, c_g, x_now, edge)\n",
    "println(findall(y.==1))\n",
    "println(c_g[y.==1])\n",
    "println(\"g = \", gx)\n",
    "println(sum(y[i]*c[i] for i=1:length(d)))\n",
    "yh, hx = hx_bound(h, c_L, c_U, c, d, x_now, edge)\n",
    "println(\"h = \", hx)\n",
    "\n",
    "\n"
   ]
  },
  {
   "cell_type": "code",
   "execution_count": 6,
   "metadata": {},
   "outputs": [],
   "source": [
    "using JuMP \n",
    "using Gurobi\n",
    "using LightGraphs\n",
    "using DataFrames\n",
    "using CSV\n",
    "using TimerOutputs\n",
    "\n",
    "edge = [1 2; 1 3; 2 3; 2 4; 3 4]\n",
    "c_L =  [0.0, 8 , 11, 4 , 0]\n",
    "c_U =  [0.0, 12, 11, 20, 0]\n",
    "d =  [0.0, 1, 0, 8, 0]\n",
    "Len = length(c_L)\n",
    "\n",
    "c = 0.5*(c_L+c_U)\n",
    "# c = [0, 10, 11, avg, 0]\n",
    "\n",
    "#STARTING SOLUTION:\n",
    "yy = zeros(Len)\n",
    "\n",
    "# yy[1] = 1\n",
    "# yy[4] = 1\n",
    "\n",
    "\n",
    "SP_init = sum(yy[i]*c[i] for i = 1:Len)\n",
    "\n",
    "p = [1.0]\n",
    "g = [SP_init]\n",
    "h = [0.0]\n",
    "\n",
    "origin = 1\n",
    "destination = 4\n",
    "\n",
    "last_node = maximum(edge)\n",
    "all_nodes = collect(1:last_node)\n",
    "\n",
    "M = zeros(Len)\n",
    "\n",
    "for i = 1:Len\n",
    "    M[i] = c_U[i] - c_L[i]\n",
    "end\n",
    "\n",
    "case = 0\n",
    "delta1 = 1\n",
    "delta2 = 0.01\n",
    "\n",
    "last_node = maximum(edge)\n",
    "\n",
    "x_now = zeros(Len)\n",
    "x_now[2]=1\n",
    "\n",
    "\n",
    "gurobi_env = Gurobi.Env()\n",
    "setparams!(gurobi_env, Heuristics=0.0, Cuts = 0, OutputFlag = 0)\n",
    "\n",
    "\n",
    "\n",
    "#@objective(h, Min, sum((cL_orig[i]+d[i]*x_now[i])*y_h[i] + q[i] for i=1:Len))\n",
    "#print(h1)\n",
    "#solve(h1)\n",
    "\n",
    "# print(x_now)"
   ]
  },
  {
   "cell_type": "code",
   "execution_count": 7,
   "metadata": {},
   "outputs": [
    {
     "data": {
      "text/plain": [
       "5-element Array{Float64,1}:\n",
       "  0.0\n",
       " 11.0\n",
       " 11.0\n",
       " 12.0\n",
       "  0.0"
      ]
     },
     "execution_count": 7,
     "metadata": {},
     "output_type": "execute_result"
    }
   ],
   "source": [
    "c_g = c + d.*x_now"
   ]
  },
  {
   "cell_type": "code",
   "execution_count": 8,
   "metadata": {},
   "outputs": [
    {
     "ename": "UndefVarError",
     "evalue": "UndefVarError: h1 not defined",
     "output_type": "error",
     "traceback": [
      "UndefVarError: h1 not defined",
      "",
      "Stacktrace:",
      " [1] top-level scope at In[8]:24"
     ]
    }
   ],
   "source": [
    "\n",
    "edge = [1 2; 1 3; 2 6; 3 4; 3 5; 4 6; 5 6; 1 7; 7 6;]\n",
    "\n",
    "c_L = [2.0, 1, 0, 0, 0, 12, 0, 1, 6]\n",
    "c_U = [2.0, 1,40, 0, 0, 12,60, 1, 12]\n",
    "# d[2] = 2\n",
    "d = [100, 100, 0, 0, 0, 0, 0, 100, 0]\n",
    "# println(myArray)\n",
    "M = c_U - c_L\n",
    "# a = 1\n",
    "# println(M)\n",
    "origin = 1\n",
    "destination = 6\n",
    "\n",
    "\n",
    "Len = length(d)\n",
    "x_now = zeros(Len)\n",
    "\n",
    "x_now[1] = 1\n",
    "x_now[8] = 1\n",
    "\n",
    "c = (c_L + c_U)/2\n",
    "c_g = c + d.*x_now\n",
    "# #println(f,\"Current CELL's LB = \", c_L)\n",
    "# #println(f,\"Current CELL's UB = \", c_U)\n",
    "# #println(f,\"Current interdiction x = \", x_now)\n",
    "# M = c_U - c_L\n",
    "\n",
    "h2 = copy(h1)\n",
    "\n",
    "y2 = h2[:y_h]\n",
    "\n",
    "@variable(h2, q[1:Len]>=0)\n",
    "for i = 1:Len\n",
    "    @constraint(h2, q[i] >= c[i] - c_L[:,1][i] - M[i]*(1-y2[i])) #_h[i]))\n",
    "end\n",
    "\n",
    "@objective(h2, Min, sum((c_L[i]+d[i]*x_now[i])*y2[i] + q[i] for i=1:Len))\n",
    "\n",
    "# for i = 1:Len\n",
    "#     temp = (c_L[i]+d[i]*x_now[i])\n",
    "#     println(i, \" : \", temp)\n",
    "# end\n",
    "# print(h2)\n",
    "solve(h2)\n",
    "\n",
    "hx = getobjectivevalue(h2)\n",
    "# println(\"x_now = \", x_now)\n",
    "y_g, gx, SP = gx_bound(c_L, c_U, c, c_g, x_now, edge)\n",
    "# println(\"g = \", gx, \"\\ny = \", y_g, \"\\nSP = \", SP)\n",
    "# println(\"y_h = \",getvalue(y2), \" \\nhx = \", hx)\n",
    "# println(\"q = \", getvalue(q))\n",
    "println(\"g = \", gx)\n",
    "println(\"h = \", hx)"
   ]
  },
  {
   "cell_type": "code",
   "execution_count": 9,
   "metadata": {},
   "outputs": [
    {
     "name": "stdout",
     "output_type": "stream",
     "text": [
      "No. unc arcs = 3\n"
     ]
    },
    {
     "ename": "UndefVarError",
     "evalue": "UndefVarError: gx_bound not defined",
     "output_type": "error",
     "traceback": [
      "UndefVarError: gx_bound not defined",
      "",
      "Stacktrace:",
      " [1] top-level scope at In[9]:121"
     ]
    }
   ],
   "source": [
    "# include(\"myData9.jl\")\n",
    "# include(\"paper2Example.jl\")\n",
    "# edge = [1 2; 1 3; 2 3; 2 4; 3 4]\n",
    "\n",
    "# cL_orig = [0,2.0,3, 5, 7]\n",
    "# cU_orig = [0,4.0,3, 25, 7]\n",
    "# # d[2] = 2\n",
    "# d = [0, 1, 0, 1,0]\n",
    "\n",
    "edge = [1 2; 1 3; 2 6; 3 4; 3 5; 4 6; 5 6; 1 7; 7 6;]\n",
    "\n",
    "cL_orig = [2.0, 1, 0, 0, 0, 12, 0, 1, 6]\n",
    "cU_orig = [2.0, 1,40, 0, 0, 12,60, 1, 12]\n",
    "# d[2] = 2\n",
    "d = [100, 100, 0, 0, 0, 0, 0, 100, 0]\n",
    "\n",
    "# edge = [1 2; 1 3; 2 3]\n",
    "# c_L =  [5.0,8,4]\n",
    "# c_U =  [5.0,28,6]\n",
    "\n",
    "# d = [0.0,100,1]\n",
    "Len = length(d)\n",
    "# # d = zeros(3)\n",
    "\n",
    "# Len = length(cL_orig)\n",
    "\n",
    "# c_orig = 0.5*(cL_orig+cU_orig)\n",
    "\n",
    "# origin = 1\n",
    "# destination = 3\n",
    "\n",
    "# last_node = maximum(edge)\n",
    "# all_nodes = collect(1:last_node)\n",
    "\n",
    "# M_orig = zeros(Len)\n",
    "\n",
    "# for i = 1:Len\n",
    "#     M_orig[i] = cU_orig[i] - cL_orig[i]\n",
    "# end\n",
    "\n",
    "# last_node = maximum(edge)\n",
    "# include(\"testing.jl\")\n",
    "\n",
    "# include(\"./Instances/testInstance_55_keep.jl\")\n",
    "\n",
    "# c_L = [31.0, 8.0, 33.0, 1.0, 28.0, 17.0, 8.5, 9.0, 5.0, 9.0, 10.0, 10.0, 20.0, 39.0, 19.0, 32.0, 28.0, 7.0, 20.0, 3.0, 13.0, 12.0, 24.0, 6.0]\n",
    "# c_U = [31.0, 38.0, 33.0, 1.0, 28.0, 17.0, 16.0, 9.0, 5.0, 9.0, 10.0, 20.0, 20.0, 39.0, 19.0, 32.0, 28.0, 33.0, 20.0, 3.0, 17.5, 12.0, 24.0, 10.0]\n",
    "# edge = [1 2; 1 5; 1 8; 2 3; 2 6; \n",
    "#     3 4; 3 6; 4 12;5 6;6 7;\n",
    "#     6 10;7 10;7 12;8 9;9 10; \n",
    "#     10 11; 10 12; 11 12]\n",
    "# c_L = [5,5,5,1,2.0,\n",
    "#     2,0,2,2,1,\n",
    "#     2.0,0,2.5,2.75,2,\n",
    "#     2.0,1,0]\n",
    "# c_U = [5,5,5,1,2.0,\n",
    "#     2,0,2,2,1,\n",
    "#     2.0,0,2.5,2.75,2,\n",
    "#     2.0,1,0]\n",
    "# cL_orig = copy(c_L)\n",
    "# cU_orig = copy(c_U)\n",
    "# d = zeros(length(c_L))\n",
    "# unc = [3, 1, 11]\n",
    "\n",
    "# c_L = copy(cL_orig) #[31.0, 8.0, 33.0, 1.0, 28.0, 17.0, 8.5, 9.0, 5.0, 9.0, 10.0, 10.0, 20.0, 39.0, 19.0, 32.0, 28.0, 7.0, 20.0, 3.0, 13.0, 12.0, 24.0, 6.0]\n",
    "# c_U = copy(cU_orig) #[31.0, 38.0, 33.0, 1.0, 28.0, 17.0, 16.0, 9.0, 5.0, 9.0, 10.0, 20.0, 20.0, 39.0, 19.0, 32.0, 28.0, 33.0, 20.0, 3.0, 17.5, 12.0, 24.0, 10.0]\n",
    "\n",
    "# myArray = Array{Int64,(0,length(d))}\n",
    "y_temp = zeros(Int, length(d))\n",
    "# println(y_temp)\n",
    "myArray = y_temp' #[]\n",
    "# println(myArray)\n",
    "M_orig = cU_orig - cL_orig\n",
    "M = copy(M_orig)\n",
    "# a = 1\n",
    "# println(M)\n",
    "unc_arcs = [3,7,9]#findall(M.>0)\n",
    "origin = 1\n",
    "destination = 6\n",
    "println(\"No. unc arcs = \", length(unc_arcs))\n",
    "# for i in unc_arcs\n",
    "#     a = a*(c_U[i]-c_L[i])/M[i]\n",
    "# end\n",
    "# println(\"p = \", a)\n",
    "\n",
    "x_now = zeros(Int64, length(d))\n",
    "x_now[1] = 1 #(1,2)\n",
    "x_now[2] = 1 #(1,3)\n",
    "# x_now[8] = 1 #(1,7)\n",
    "\n",
    "# println(cL_orig)\n",
    "# println(cU_orig)\n",
    "# println(d)\n",
    "\n",
    "β = collect(1:10)./10\n",
    "for α in β\n",
    "    K = 500000\n",
    "    g = zeros(K)\n",
    "    for i = 1:K\n",
    "        #Temp\n",
    "        c_L = copy(cL_orig) \n",
    "        c_U = copy(cU_orig)\n",
    "    #     println(c_L)\n",
    "        for j in unc_arcs\n",
    "    #         println(j)\n",
    "            c_L[j] = c_L[j] + rand() * M[j]\n",
    "\n",
    "            c_U[j] = c_L[j]\n",
    "    #         println(\"Arc \", j, \" = \", c_L[j])\n",
    "        end\n",
    "    #     c_U = c_L\n",
    "        c = c_L\n",
    "        c_g = c + d.*x_now\n",
    "#         println(c_L)\n",
    "#         println(c_U)\n",
    "#         println(c)\n",
    "#         println(c_g)\n",
    "#         println(x_now)\n",
    "#         println(edge)\n",
    "        #End of Temp\n",
    "        y, gx, SP = gx_bound(c_L, c_U, c, c_g, x_now, edge)\n",
    "#         println(\"1\")\n",
    "        g[i] = gx\n",
    "#         println(findall(y.==1), \" \", gx)\n",
    "    #     y_ind = findall(y.>0)\n",
    "    #     if (y in myArray) == false\n",
    "    #     println(myArray)\n",
    "    #     myArray = [myArray; y']\n",
    "    #     println(myArray)\n",
    "    #     myArray = unique(myArray, dims=1)\n",
    "    #     end\n",
    "    #     println(myArray)\n",
    "    end\n",
    "\n",
    "#     α = 0.25\n",
    "    g = sort!(g)\n",
    "    a = collect(1:Int64(K*α))\n",
    "    # println(a)\n",
    "#     println(g[length(a)])\n",
    "    println(\"α = \", α, \" : \", sum(g[i] for i in a)/length(a))\n",
    "end"
   ]
  },
  {
   "cell_type": "code",
   "execution_count": null,
   "metadata": {},
   "outputs": [],
   "source": [
    "# myArray_uni = unique(myArray,1)\n",
    "# for i = 1:length(myArray[:,1])\n",
    "#     println(myArray[i,:])\n",
    "# end\n",
    "myArray = unique(myArray, dims=1)\n",
    "# myArray = myArray[2:end, :]\n",
    "println(myArray)\n",
    "println(\"No. SP = \", length(myArray[:,1])-1)\n",
    "println(rand(1:11,3))\n",
    "println(rand(11)*50)\n",
    "y_temp = myArray[3,:]\n",
    "for i = 1 : length(y_temp)\n",
    "    if y_temp[i] >0\n",
    "        println(edge[i,:],\" : \", c_L[i]) \n",
    "    end\n",
    "end\n",
    "println(edge[17,:])"
   ]
  },
  {
   "cell_type": "code",
   "execution_count": null,
   "metadata": {},
   "outputs": [],
   "source": [
    "alpha = 0.3\n",
    "x[1] -> 3.05\n",
    "x[2] -> 3\n",
    "alpha = 0.25\n",
    "x[1] -> 2.5\n",
    "x[2] -> 2.5"
   ]
  },
  {
   "cell_type": "code",
   "execution_count": 61,
   "metadata": {},
   "outputs": [
    {
     "name": "stderr",
     "output_type": "stream",
     "text": [
      "┌ Info: Precompiling Query [1a8c2f83-1ff3-5112-b086-8aa67b057ba1]\n",
      "└ @ Base loading.jl:1192\n"
     ]
    }
   ],
   "source": [
    "using JuMP\n",
    "using DataFrames, Query"
   ]
  },
  {
   "cell_type": "code",
   "execution_count": 4,
   "metadata": {},
   "outputs": [
    {
     "name": "stdout",
     "output_type": "stream",
     "text": [
      "[1, 2, 3, 4, 5]\n",
      "[2, 3, 4]\n"
     ]
    }
   ],
   "source": [
    "a = collect(1:5)\n",
    "println(a)\n",
    "setdiff!(a,5)\n",
    "setdiff!(a,1)\n",
    "println(a)"
   ]
  },
  {
   "cell_type": "code",
   "execution_count": 35,
   "metadata": {},
   "outputs": [
    {
     "name": "stdout",
     "output_type": "stream",
     "text": [
      "[1, 0, 0, 0]\n",
      "M_path [3, 0, 0, 0]\n"
     ]
    },
    {
     "data": {
      "text/plain": [
       "1-element Array{Int64,1}:\n",
       " 1"
      ]
     },
     "execution_count": 35,
     "metadata": {},
     "output_type": "execute_result"
    }
   ],
   "source": [
    "y = [1,1,1,0]\n",
    "yL = [0,1,1,0]\n",
    "M = [3,3,3,2]\n",
    "df_constraints = DataFrame(NUM = Int[],CELL = Int[], Y = Array[], SP = Float64[])\n",
    "push!(df_constraints,(1,1,y,1))\n",
    "push!(df_constraints,(2,2,yL,2))\n",
    "push!(df_constraints,(3,1,[1,1,0,0],2))\n",
    "M_path = broadcast(abs,y-yL).*M\n",
    "println(broadcast(abs,y-yL))\n",
    "println(\"M_path \", M_path)\n",
    "S_k = findall(M_path.==maximum(M_path))"
   ]
  },
  {
   "cell_type": "code",
   "execution_count": 38,
   "metadata": {},
   "outputs": [
    {
     "data": {
      "text/plain": [
       "3×4 Array{Any,2}:\n",
       " 1  1  [1, 1, 1, 0]  1.0\n",
       " 2  2  [0, 1, 1, 0]  2.0\n",
       " 3  1  [1, 1, 0, 0]  2.0"
      ]
     },
     "execution_count": 38,
     "metadata": {},
     "output_type": "execute_result"
    }
   ],
   "source": [
    "Matrix(df_constraints)\n",
    "# using CSV\n",
    "# CSV.write(\"myFile.csv\",df_constraints)"
   ]
  },
  {
   "cell_type": "code",
   "execution_count": 33,
   "metadata": {},
   "outputs": [
    {
     "ename": "LoadError",
     "evalue": "UndefVarError: @filter not defined",
     "output_type": "error",
     "traceback": [
      "UndefVarError: @filter not defined",
      ""
     ]
    }
   ],
   "source": [
    "arc_split = 2\n",
    "q2 = df_constraints |> \n",
    "@filter(_.CELL == 1)|>\n",
    "@filter(_.Y[arc_split] == 1) |>DataFrame\n",
    "# @map({_.rownumber, _.name, _.children}) |> DataFrame\n",
    "# println(q2.NUM)\n",
    "# for i in eachrow(q2)\n",
    "#    println(i.CELL)\n",
    "# end"
   ]
  },
  {
   "cell_type": "code",
   "execution_count": 125,
   "metadata": {},
   "outputs": [
    {
     "data": {
      "text/html": [
       "<table class=\"data-frame\"><thead><tr><th></th><th>NUM</th><th>CELL</th><th>Y</th><th>SP</th></tr><tr><th></th><th>Int64</th><th>Int64</th><th>Array</th><th>Float64</th></tr></thead><tbody><p>2 rows × 4 columns</p><tr><th>1</th><td>1</td><td>1</td><td>[1, 1, 1, 0]</td><td>2.0</td></tr><tr><th>2</th><td>3</td><td>1</td><td>[1, 1, 0, 0]</td><td>3.0</td></tr></tbody></table>"
      ],
      "text/latex": [
       "\\begin{tabular}{r|cccc}\n",
       "\t& NUM & CELL & Y & SP\\\\\n",
       "\t\\hline\n",
       "\t& Int64 & Int64 & Array & Float64\\\\\n",
       "\t\\hline\n",
       "\t1 & 1 & 1 & [1, 1, 1, 0] & 2.0 \\\\\n",
       "\t2 & 3 & 1 & [1, 1, 0, 0] & 3.0 \\\\\n",
       "\\end{tabular}\n"
      ],
      "text/plain": [
       "\u001b[1m2×4 DataFrame\u001b[0m\n",
       "\u001b[1m Row \u001b[0m│\u001b[1m NUM   \u001b[0m\u001b[1m CELL  \u001b[0m\u001b[1m Y            \u001b[0m\u001b[1m SP      \u001b[0m\n",
       "\u001b[1m     \u001b[0m│\u001b[90m Int64 \u001b[0m\u001b[90m Int64 \u001b[0m\u001b[90m Array        \u001b[0m\u001b[90m Float64 \u001b[0m\n",
       "─────┼─────────────────────────────────────\n",
       "   1 │     1      1  [1, 1, 1, 0]      2.0\n",
       "   2 │     3      1  [1, 1, 0, 0]      3.0"
      ]
     },
     "execution_count": 125,
     "metadata": {},
     "output_type": "execute_result"
    }
   ],
   "source": [
    "for row in eachrow(q2)\n",
    "    row.SP = row.SP + 1\n",
    "end\n",
    "q2"
   ]
  },
  {
   "cell_type": "code",
   "execution_count": 111,
   "metadata": {},
   "outputs": [
    {
     "name": "stdout",
     "output_type": "stream",
     "text": [
      "3\n"
     ]
    }
   ],
   "source": [
    "df = DataFrame(name=[\"John\", \"Sally\", \"Kirk\"], age=[23., 42., 59.], children=[3,5,2])\n",
    "\n",
    "# x = df |>\n",
    "#   @filter(_.age>20) |>\n",
    "#     @filter(_.children > 2)|>\n",
    "#   @map({_.DataFramesRows,_.name, _.children}) |>\n",
    "#   DataFrame\n",
    "println(nrow(df))"
   ]
  },
  {
   "cell_type": "code",
   "execution_count": 60,
   "metadata": {},
   "outputs": [
    {
     "name": "stdout",
     "output_type": "stream",
     "text": [
      "DataFrameRow{DataFrame,DataFrames.Index}[\u001b[1mDataFrameRow\u001b[0m\n",
      "\u001b[1m Row \u001b[0m│\u001b[1m CELL  \u001b[0m\u001b[1m Y            \u001b[0m\u001b[1m SP      \u001b[0m\n",
      "\u001b[1m     \u001b[0m│\u001b[90m Int64 \u001b[0m\u001b[90m Array        \u001b[0m\u001b[90m Float64 \u001b[0m\n",
      "─────┼──────────────────────────────\n",
      "   1 │     1  [1, 1, 1, 0]      1.0, \u001b[1mDataFrameRow\u001b[0m\n",
      "\u001b[1m Row \u001b[0m│\u001b[1m CELL  \u001b[0m\u001b[1m Y            \u001b[0m\u001b[1m SP      \u001b[0m\n",
      "\u001b[1m     \u001b[0m│\u001b[90m Int64 \u001b[0m\u001b[90m Array        \u001b[0m\u001b[90m Float64 \u001b[0m\n",
      "─────┼──────────────────────────────\n",
      "   3 │     1  [1, 1, 0, 0]      2.0]\n"
     ]
    }
   ],
   "source": [
    "arc_split = 2\n",
    "y = [i for i in eachrow(df_constraints) if (i.CELL .== 1) && (i.Y[arc_split] .== 1)]\n",
    "println(y)"
   ]
  },
  {
   "cell_type": "code",
   "execution_count": 37,
   "metadata": {},
   "outputs": [
    {
     "data": {
      "text/plain": [
       "true"
      ]
     },
     "execution_count": 37,
     "metadata": {},
     "output_type": "execute_result"
    }
   ],
   "source": [
    "y in t"
   ]
  },
  {
   "cell_type": "code",
   "execution_count": 132,
   "metadata": {},
   "outputs": [
    {
     "name": "stdout",
     "output_type": "stream",
     "text": [
      "[1, 2, 3]\n",
      "[1, 2]\n",
      "[1, 2, 3]\n",
      "[1, 3]\n"
     ]
    }
   ],
   "source": [
    "K = [1,2,3]\n",
    "K2 = [1,2]\n",
    "println(K)\n",
    "println(K2)\n",
    "K2 = copy(K)\n",
    "setdiff!(K2, 2)\n",
    "println(K)\n",
    "println(K2)"
   ]
  },
  {
   "cell_type": "code",
   "execution_count": 137,
   "metadata": {},
   "outputs": [
    {
     "data": {
      "text/plain": [
       "5-element Array{Int64,1}:\n",
       " 1\n",
       " 2\n",
       " 3\n",
       " 1\n",
       " 3"
      ]
     },
     "execution_count": 137,
     "metadata": {},
     "output_type": "execute_result"
    }
   ],
   "source": [
    "K = vcat(K,K2)"
   ]
  },
  {
   "cell_type": "code",
   "execution_count": 138,
   "metadata": {},
   "outputs": [
    {
     "data": {
      "text/plain": [
       "5-element Array{Int64,1}:\n",
       " 1\n",
       " 2\n",
       " 3\n",
       " 1\n",
       " 3"
      ]
     },
     "execution_count": 138,
     "metadata": {},
     "output_type": "execute_result"
    }
   ],
   "source": [
    "K"
   ]
  },
  {
   "cell_type": "code",
   "execution_count": 140,
   "metadata": {},
   "outputs": [
    {
     "data": {
      "text/plain": [
       "2-element Array{Int64,1}:\n",
       " 1\n",
       " 3"
      ]
     },
     "execution_count": 140,
     "metadata": {},
     "output_type": "execute_result"
    }
   ],
   "source": [
    "K2"
   ]
  },
  {
   "cell_type": "code",
   "execution_count": 152,
   "metadata": {},
   "outputs": [
    {
     "data": {
      "text/plain": [
       "1-element Array{Int64,1}:\n",
       " 2"
      ]
     },
     "execution_count": 152,
     "metadata": {},
     "output_type": "execute_result"
    }
   ],
   "source": [
    "setdiff!(K,K2)"
   ]
  },
  {
   "cell_type": "code",
   "execution_count": 149,
   "metadata": {},
   "outputs": [
    {
     "name": "stdout",
     "output_type": "stream",
     "text": [
      "[0.0, 1.0, 0.0, 0.0, 0.0]\n"
     ]
    }
   ],
   "source": [
    "M = zeros(5)\n",
    "M[2] = 1\n",
    "println(M)"
   ]
  },
  {
   "cell_type": "code",
   "execution_count": 151,
   "metadata": {},
   "outputs": [
    {
     "name": "stdout",
     "output_type": "stream",
     "text": [
      "[2]\n"
     ]
    }
   ],
   "source": [
    "println(findall((M.==maximum(M)) .& (M.>0)))"
   ]
  },
  {
   "cell_type": "code",
   "execution_count": 154,
   "metadata": {},
   "outputs": [
    {
     "data": {
      "text/html": [
       "1 &#43; x"
      ],
      "text/latex": [
       "$1 + x$"
      ],
      "text/plain": [
       "Polynomial(1 + x)"
      ]
     },
     "execution_count": 154,
     "metadata": {},
     "output_type": "execute_result"
    }
   ],
   "source": [
    "using Polynomials\n",
    "Polynomial([1,1])"
   ]
  },
  {
   "cell_type": "code",
   "execution_count": 155,
   "metadata": {},
   "outputs": [
    {
     "name": "stdout",
     "output_type": "stream",
     "text": [
      "1\n",
      "2\n",
      "0\n",
      "2\n"
     ]
    }
   ],
   "source": [
    "a = 1\n",
    "b = 2\n",
    "println(a)\n",
    "println(b)\n",
    "a = b\n",
    "a = 0\n",
    "println(a)\n",
    "println(b)\n"
   ]
  },
  {
   "cell_type": "code",
   "execution_count": 15,
   "metadata": {},
   "outputs": [
    {
     "data": {
      "text/plain": [
       "\"center\""
      ]
     },
     "execution_count": 15,
     "metadata": {},
     "output_type": "execute_result"
    }
   ],
   "source": [
    "\n",
    "\n"
   ]
  },
  {
   "cell_type": "code",
   "execution_count": 31,
   "metadata": {},
   "outputs": [
    {
     "name": "stdout",
     "output_type": "stream",
     "text": [
      "[15.0, 15.0]\n",
      "[31.0, 31.0]\n",
      "[15.0, 15.0]\n",
      "[27.0, 37.0]\n",
      "[30.0, 38.0]\n",
      "[59.0, 59.0]\n",
      "d_x = 20.0, 16.0\n"
     ]
    }
   ],
   "source": [
    "myFile = \"./Instances_Paper1/Center Instances/20NodesCenter_1.jl\"\n",
    "include(myFile)\n",
    "Y = [1, 7, 18, 27, 55]\n",
    "Y2 = [1, 7, 18,26, 36, 55]\n",
    "# [1, 7, 18, 26, 36, 55]\n",
    "a36 = 38\n",
    "a26 = 32\n",
    "cU_orig[36] = a36\n",
    "for i in Y2\n",
    "   println(\"[\", cL_orig[i], \", \", cU_orig[i],\"]\") \n",
    "end\n",
    "\n",
    "println(\"d_x = \", d[3], \", \", d[30])"
   ]
  },
  {
   "cell_type": "code",
   "execution_count": 32,
   "metadata": {},
   "outputs": [
    {
     "data": {
      "text/plain": [
       "186.0"
      ]
     },
     "execution_count": 32,
     "metadata": {},
     "output_type": "execute_result"
    }
   ],
   "source": [
    "sum(0.5*(cL_orig[i]+cU_orig[i]) for i in Y2)"
   ]
  },
  {
   "cell_type": "code",
   "execution_count": 43,
   "metadata": {},
   "outputs": [
    {
     "data": {
      "text/plain": [
       "2-element Array{Int64,1}:\n",
       " 1\n",
       " 3"
      ]
     },
     "execution_count": 43,
     "metadata": {},
     "output_type": "execute_result"
    }
   ],
   "source": [
    "Y = [1, 0, 1, 0]\n",
    "L = [1,2,3,4]\n",
    "y_i = findall(Y.>0)\n",
    "L[y_i]"
   ]
  },
  {
   "cell_type": "code",
   "execution_count": null,
   "metadata": {},
   "outputs": [],
   "source": []
  }
 ],
 "metadata": {
  "kernelspec": {
   "display_name": "Julia 1.0.5",
   "language": "julia",
   "name": "julia-1.0"
  },
  "language_info": {
   "file_extension": ".jl",
   "mimetype": "application/julia",
   "name": "julia",
   "version": "1.0.5"
  }
 },
 "nbformat": 4,
 "nbformat_minor": 4
}
