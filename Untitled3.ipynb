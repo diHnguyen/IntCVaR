{
 "cells": [
  {
   "cell_type": "code",
   "execution_count": 1,
   "metadata": {},
   "outputs": [
    {
     "data": {
      "text/plain": [
       "\"center\""
      ]
     },
     "execution_count": 1,
     "metadata": {},
     "output_type": "execute_result"
    }
   ],
   "source": [
    "myFile = \"./Instances_Paper1/Center Instances/20NodesCenter_7.jl\"\n",
    "include(myFile)"
   ]
  },
  {
   "cell_type": "code",
   "execution_count": 5,
   "metadata": {},
   "outputs": [
    {
     "name": "stdout",
     "output_type": "stream",
     "text": [
      "[16.0, 12.0, 0.0, 0.0]\n",
      "[16.0, 12.0, 10.0, 0.0, 16.0]\n",
      "[14.0, 10.0, 0.0, 0.0]\n"
     ]
    }
   ],
   "source": [
    "y = [2, 31, 43, 52]\n",
    "yL = [2, 31, 38, 42, 48]\n",
    "yW = [1, 16, 32, 52]\n",
    "\n",
    "println(M_orig[y])\n",
    "println(M_orig[yL])\n",
    "println(M_orig[yW])"
   ]
  },
  {
   "cell_type": "code",
   "execution_count": null,
   "metadata": {},
   "outputs": [],
   "source": []
  }
 ],
 "metadata": {
  "kernelspec": {
   "display_name": "Julia 1.0.5",
   "language": "julia",
   "name": "julia-1.0"
  },
  "language_info": {
   "file_extension": ".jl",
   "mimetype": "application/julia",
   "name": "julia",
   "version": "1.0.5"
  }
 },
 "nbformat": 4,
 "nbformat_minor": 4
}
