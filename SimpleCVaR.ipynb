{
 "cells": [
  {
   "cell_type": "code",
   "execution_count": 7,
   "metadata": {},
   "outputs": [
    {
     "name": "stdout",
     "output_type": "stream",
     "text": [
      "Academic license - for non-commercial use only\r\n"
     ]
    }
   ],
   "source": [
    "using JuMP \n",
    "using Gurobi\n",
    "using LightGraphs\n",
    "using DataFrames\n",
    "using CSV\n",
    "using TimerOutputs\n",
    "\n",
    "gurobi_env = Gurobi.Env()\n",
    "setparams!(gurobi_env, Heuristics=0.0, Cuts = 0, OutputFlag = 0)\n",
    "m = Model(() -> Gurobi.Optimizer(gurobi_env)) # If we want to add # in Gurobi, then we have to turn of Gurobi's own Cuts \n",
    "p = [0.2,0.8]\n",
    "α = 0.2\n",
    "rhs = [3.6/2,7.6/2]\n",
    "@variable(m, w >=0)\n",
    "# @variable(m,  x[1:A], Bin)\n",
    "# @variable(m, 1e6 >= z[1:200000] >= 0)\n",
    "@variable(m, z[1:4] >=0)\n",
    "# constr = Array{JuMP.ConstraintRef}(undef, 200000)\n",
    "\n",
    "# @constraint(m, sum(x[i] for i=1:A) <= b) #attack budget = 2\n",
    "# constr[1] = @constraint(m, w <= SP_init + sum(yy[i]*x[i]*d[i] for i=1:Len) + z[1]  )\n",
    "\n",
    "@objective(m, Max, α*w - sum(p[i]*z[i] for i = 1:length(p)) )\n",
    "\n",
    "for i = 1:length(p)\n",
    "   @constraint(m, w<=z[i] + rhs[i]) \n",
    "end\n",
    "\n",
    "optimize!(m)\n"
   ]
  },
  {
   "cell_type": "code",
   "execution_count": 8,
   "metadata": {},
   "outputs": [
    {
     "name": "stdout",
     "output_type": "stream",
     "text": [
      "0.36000000000000004\n"
     ]
    }
   ],
   "source": [
    "MP = JuMP.objective_value(m)\n",
    "println(MP)"
   ]
  },
  {
   "cell_type": "code",
   "execution_count": null,
   "metadata": {},
   "outputs": [],
   "source": []
  }
 ],
 "metadata": {
  "kernelspec": {
   "display_name": "Julia 1.0.5",
   "language": "julia",
   "name": "julia-1.0"
  },
  "language_info": {
   "file_extension": ".jl",
   "mimetype": "application/julia",
   "name": "julia",
   "version": "1.0.5"
  }
 },
 "nbformat": 4,
 "nbformat_minor": 4
}
