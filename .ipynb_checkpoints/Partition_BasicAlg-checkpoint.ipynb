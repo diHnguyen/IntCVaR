{
 "cells": [
  {
   "cell_type": "code",
   "execution_count": 16,
   "metadata": {},
   "outputs": [
    {
     "name": "stdout",
     "output_type": "stream",
     "text": [
      "3\n"
     ]
    }
   ],
   "source": [
    "# using JuMP\n",
    "function Partition(df_cell, k, p, gx, cL, cU, M, y, O2Flag)\n",
    "    if O2Flag == true\n",
    "        arc_split = findall(M.==maximum(M))[1]\n",
    "        yL = y\n",
    "        yU = y\n",
    "        \n",
    "        #We need to think about h-value for the new cells. Do we need to update h?\n",
    "        #Most likely yes -- Remove the update on h-values below when figure out what to do with it. \n",
    "        gap =  df_cell[k,:g] - df_cell[k,:h]\n",
    "        #====#\n",
    "        Δ = M[arc_split]/4\n",
    "        SP_L = SP - Δ\n",
    "        SP_U = SP + Δ\n",
    "        gL = gx - Δ\n",
    "        gU = gx + Δ\n",
    "        \n",
    "        \n",
    "        cMid = copy(cL)\n",
    "        cMid[arc_split] = (cL[arc_split] + cU[arc_split])/2\n",
    "        push!(df_cell, (length(df_cell, yU, gU, gU, cMid, cU, p/2)))\n",
    "        df_cell[k,:UB] = cMid\n",
    "        df_cell[k,:g] = gL\n",
    "        df_cell[k,:h] = gL\n",
    "        df_cell[k,:PROB] = p/2\n",
    "    else\n",
    "        My = M.*y\n",
    "        arc_split = findall(My.==maximum(My))[1]\n",
    "        cMid = copy(cL)\n",
    "        cMid[arc_split] = (cL[arc_split] + cU[arc_split])/2\n",
    "        \n",
    "        yL, gL, SP_L = gx_bound((cL+cMid)/2, (cL+cMid)/2+d.*x_now, edge)\n",
    "        yU, gU, SP_U = gx_bound((cU+cMid)/2, (cU+cMid)/2+d.*x_now, edge)\n",
    "            \n",
    "        push!(df_cell, (length(df_cell, yU, gU, 0, cMid, cU, p/2)))\n",
    "        df_cell[k,:UB] = cMid\n",
    "        df_cell[k,:g] = gL\n",
    "        df_cell[k,:h] = 0\n",
    "        df_cell[k,:PROB] = p/2\n",
    "    end\n",
    "    return Δ, arc_split, yL, yU, gL, gU, SP_L, SP_U, false\n",
    "end"
   ]
  }
 ],
 "metadata": {
  "kernelspec": {
   "display_name": "Julia 1.0.5",
   "language": "julia",
   "name": "julia-1.0"
  },
  "language_info": {
   "file_extension": ".jl",
   "mimetype": "application/julia",
   "name": "julia",
   "version": "1.0.5"
  }
 },
 "nbformat": 4,
 "nbformat_minor": 4
}
