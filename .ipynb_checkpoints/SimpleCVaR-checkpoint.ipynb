{
 "cells": [
  {
   "cell_type": "code",
   "execution_count": null,
   "metadata": {},
   "outputs": [],
   "source": [
    "setparams!(gurobi_env, Heuristics=0.0, Cuts = 0, OutputFlag = 0)\n",
    "m = Model(() -> Gurobi.Optimizer(gurobi_env)) # If we want to add # in Gurobi, then we have to turn of Gurobi's own Cuts \n",
    "p = ones(4)./4\n",
    "α = 0.5\n",
    "rhs = [1,2,3,4]\n",
    "@variable(m, w >=0)\n",
    "# @variable(m,  x[1:A], Bin)\n",
    "# @variable(m, 1e6 >= z[1:200000] >= 0)\n",
    "@variable(m, z[1:4] >=0)\n",
    "# constr = Array{JuMP.ConstraintRef}(undef, 200000)\n",
    "\n",
    "# @constraint(m, sum(x[i] for i=1:A) <= b) #attack budget = 2\n",
    "# constr[1] = @constraint(m, w <= SP_init + sum(yy[i]*x[i]*d[i] for i=1:Len) + z[1]  )\n",
    "\n",
    "@objective(m, Max, α*w - sum(p[i]*z[i] for i = 1:length(p)) )\n",
    "\n",
    "for i = 1:4\n",
    "   @constraint(m, w<=z[i] + rhs[i]) \n",
    "end\n",
    "\n",
    "optimize!(m)"
   ]
  }
 ],
 "metadata": {
  "kernelspec": {
   "display_name": "Julia 1.0.5",
   "language": "julia",
   "name": "julia-1.0"
  },
  "language_info": {
   "file_extension": ".jl",
   "mimetype": "application/julia",
   "name": "julia",
   "version": "1.0.5"
  }
 },
 "nbformat": 4,
 "nbformat_minor": 4
}
