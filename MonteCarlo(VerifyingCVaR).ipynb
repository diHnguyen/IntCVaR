{
 "cells": [
  {
   "cell_type": "code",
   "execution_count": 8,
   "metadata": {},
   "outputs": [
    {
     "data": {
      "text/plain": [
       "5"
      ]
     },
     "execution_count": 8,
     "metadata": {},
     "output_type": "execute_result"
    }
   ],
   "source": [
    "using CSV;\n",
    "using DataFrames;\n",
    "l1 = [15.0, 31.0, 15.0, 27.0, 30.0, 59.0]\n",
    "u1 = [15.0, 31.0, 15.0, 32.0, 38.0, 59.0]\n",
    "L1 = length(l1)\n",
    "l2 = [15.0, 31.0, 15.0, 68.0, 59.0]\n",
    "u2 = [15.0, 31.0, 15.0, 68.0, 59.0]\n",
    "L2 = length(l2)\n",
    "l3 = [15.0, 31.0, 15.0, 68.0, 59.0]\n",
    "u3 = [15.0, 31.0, 15.0, 68.0, 59.0]\n",
    "L3 = length(l3)\n",
    "# df_cell = CSV.read(\"df_cell.csv\", DataFrame)"
   ]
  },
  {
   "cell_type": "code",
   "execution_count": 26,
   "metadata": {},
   "outputs": [
    {
     "data": {
      "text/plain": [
       "186.8944901743073"
      ]
     },
     "execution_count": 26,
     "metadata": {},
     "output_type": "execute_result"
    }
   ],
   "source": [
    "global s = 0\n",
    "global count = 0\n",
    "for k = 1:100\n",
    "    global s\n",
    "    g1 = sum((u1-l1).*rand(L1) + l1)*0.25\n",
    "    g2 = sum((u2-l2).*rand(L2) + l2)*0.5\n",
    "    g3 = sum((u3-l3).*rand(L3) + l3)*0.25\n",
    "    s = s +g1+g2+g3\n",
    "    count = count + 1\n",
    "end\n",
    "s/count\n"
   ]
  },
  {
   "cell_type": "code",
   "execution_count": 13,
   "metadata": {},
   "outputs": [
    {
     "data": {
      "text/plain": [
       "6-element Array{Float64,1}:\n",
       " 0.31250817797854324 \n",
       " 0.818074974575016   \n",
       " 0.9051496795345242  \n",
       " 0.6060210346818227  \n",
       " 0.021284217663072535\n",
       " 0.17463742207464272 "
      ]
     },
     "execution_count": 13,
     "metadata": {},
     "output_type": "execute_result"
    }
   ],
   "source": [
    "rand(L1)"
   ]
  },
  {
   "cell_type": "code",
   "execution_count": 19,
   "metadata": {},
   "outputs": [
    {
     "data": {
      "text/plain": [
       "6-element Array{Float64,1}:\n",
       " 15.0              \n",
       " 31.0              \n",
       " 15.0              \n",
       " 27.20454048238572 \n",
       " 32.196374113643465\n",
       " 59.0              "
      ]
     },
     "execution_count": 19,
     "metadata": {},
     "output_type": "execute_result"
    }
   ],
   "source": [
    "((u1-l1).*rand(L1) + l1).*ones()"
   ]
  },
  {
   "cell_type": "code",
   "execution_count": null,
   "metadata": {},
   "outputs": [],
   "source": []
  }
 ],
 "metadata": {
  "kernelspec": {
   "display_name": "Julia 1.0.5",
   "language": "julia",
   "name": "julia-1.0"
  },
  "language_info": {
   "file_extension": ".jl",
   "mimetype": "application/julia",
   "name": "julia",
   "version": "1.0.5"
  }
 },
 "nbformat": 4,
 "nbformat_minor": 4
}
